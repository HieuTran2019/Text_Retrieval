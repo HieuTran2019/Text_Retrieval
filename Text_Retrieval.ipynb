{
  "nbformat": 4,
  "nbformat_minor": 0,
  "metadata": {
    "colab": {
      "provenance": [],
      "toc_visible": true,
      "gpuType": "T4"
    },
    "kernelspec": {
      "name": "python3",
      "display_name": "Python 3"
    },
    "language_info": {
      "name": "python"
    },
    "accelerator": "GPU",
    "widgets": {
      "application/vnd.jupyter.widget-state+json": {
        "704f7312fb2b46b8aa8f7c5a60200b11": {
          "model_module": "@jupyter-widgets/controls",
          "model_name": "HBoxModel",
          "model_module_version": "1.5.0",
          "state": {
            "_dom_classes": [],
            "_model_module": "@jupyter-widgets/controls",
            "_model_module_version": "1.5.0",
            "_model_name": "HBoxModel",
            "_view_count": null,
            "_view_module": "@jupyter-widgets/controls",
            "_view_module_version": "1.5.0",
            "_view_name": "HBoxView",
            "box_style": "",
            "children": [
              "IPY_MODEL_d926ee4656234a1e82d0a0230da7157c",
              "IPY_MODEL_d596c6dc995c4e83a5b11bebd942cd3e",
              "IPY_MODEL_8519b15e22364d8b85b6593d7a1a70e3"
            ],
            "layout": "IPY_MODEL_9d41389cd40d4055903268e325add05c"
          }
        },
        "d926ee4656234a1e82d0a0230da7157c": {
          "model_module": "@jupyter-widgets/controls",
          "model_name": "HTMLModel",
          "model_module_version": "1.5.0",
          "state": {
            "_dom_classes": [],
            "_model_module": "@jupyter-widgets/controls",
            "_model_module_version": "1.5.0",
            "_model_name": "HTMLModel",
            "_view_count": null,
            "_view_module": "@jupyter-widgets/controls",
            "_view_module_version": "1.5.0",
            "_view_name": "HTMLView",
            "description": "",
            "description_tooltip": null,
            "layout": "IPY_MODEL_928d161062294175ba348e0089c53d4a",
            "placeholder": "​",
            "style": "IPY_MODEL_5a0146232258440c9338e9f4d8f84dbb",
            "value": "100%"
          }
        },
        "d596c6dc995c4e83a5b11bebd942cd3e": {
          "model_module": "@jupyter-widgets/controls",
          "model_name": "FloatProgressModel",
          "model_module_version": "1.5.0",
          "state": {
            "_dom_classes": [],
            "_model_module": "@jupyter-widgets/controls",
            "_model_module_version": "1.5.0",
            "_model_name": "FloatProgressModel",
            "_view_count": null,
            "_view_module": "@jupyter-widgets/controls",
            "_view_module_version": "1.5.0",
            "_view_name": "ProgressView",
            "bar_style": "success",
            "description": "",
            "description_tooltip": null,
            "layout": "IPY_MODEL_6d09b9b012ce44fcb022219528066264",
            "max": 3,
            "min": 0,
            "orientation": "horizontal",
            "style": "IPY_MODEL_51c3b1cbe6d244ae9acd1fca71119b36",
            "value": 3
          }
        },
        "8519b15e22364d8b85b6593d7a1a70e3": {
          "model_module": "@jupyter-widgets/controls",
          "model_name": "HTMLModel",
          "model_module_version": "1.5.0",
          "state": {
            "_dom_classes": [],
            "_model_module": "@jupyter-widgets/controls",
            "_model_module_version": "1.5.0",
            "_model_name": "HTMLModel",
            "_view_count": null,
            "_view_module": "@jupyter-widgets/controls",
            "_view_module_version": "1.5.0",
            "_view_name": "HTMLView",
            "description": "",
            "description_tooltip": null,
            "layout": "IPY_MODEL_9ba620603643431c908e0f65e7ab7144",
            "placeholder": "​",
            "style": "IPY_MODEL_4d46ea8f374846a6b9c4b53844adb58a",
            "value": " 3/3 [00:00&lt;00:00, 58.62it/s]"
          }
        },
        "9d41389cd40d4055903268e325add05c": {
          "model_module": "@jupyter-widgets/base",
          "model_name": "LayoutModel",
          "model_module_version": "1.2.0",
          "state": {
            "_model_module": "@jupyter-widgets/base",
            "_model_module_version": "1.2.0",
            "_model_name": "LayoutModel",
            "_view_count": null,
            "_view_module": "@jupyter-widgets/base",
            "_view_module_version": "1.2.0",
            "_view_name": "LayoutView",
            "align_content": null,
            "align_items": null,
            "align_self": null,
            "border": null,
            "bottom": null,
            "display": null,
            "flex": null,
            "flex_flow": null,
            "grid_area": null,
            "grid_auto_columns": null,
            "grid_auto_flow": null,
            "grid_auto_rows": null,
            "grid_column": null,
            "grid_gap": null,
            "grid_row": null,
            "grid_template_areas": null,
            "grid_template_columns": null,
            "grid_template_rows": null,
            "height": null,
            "justify_content": null,
            "justify_items": null,
            "left": null,
            "margin": null,
            "max_height": null,
            "max_width": null,
            "min_height": null,
            "min_width": null,
            "object_fit": null,
            "object_position": null,
            "order": null,
            "overflow": null,
            "overflow_x": null,
            "overflow_y": null,
            "padding": null,
            "right": null,
            "top": null,
            "visibility": null,
            "width": null
          }
        },
        "928d161062294175ba348e0089c53d4a": {
          "model_module": "@jupyter-widgets/base",
          "model_name": "LayoutModel",
          "model_module_version": "1.2.0",
          "state": {
            "_model_module": "@jupyter-widgets/base",
            "_model_module_version": "1.2.0",
            "_model_name": "LayoutModel",
            "_view_count": null,
            "_view_module": "@jupyter-widgets/base",
            "_view_module_version": "1.2.0",
            "_view_name": "LayoutView",
            "align_content": null,
            "align_items": null,
            "align_self": null,
            "border": null,
            "bottom": null,
            "display": null,
            "flex": null,
            "flex_flow": null,
            "grid_area": null,
            "grid_auto_columns": null,
            "grid_auto_flow": null,
            "grid_auto_rows": null,
            "grid_column": null,
            "grid_gap": null,
            "grid_row": null,
            "grid_template_areas": null,
            "grid_template_columns": null,
            "grid_template_rows": null,
            "height": null,
            "justify_content": null,
            "justify_items": null,
            "left": null,
            "margin": null,
            "max_height": null,
            "max_width": null,
            "min_height": null,
            "min_width": null,
            "object_fit": null,
            "object_position": null,
            "order": null,
            "overflow": null,
            "overflow_x": null,
            "overflow_y": null,
            "padding": null,
            "right": null,
            "top": null,
            "visibility": null,
            "width": null
          }
        },
        "5a0146232258440c9338e9f4d8f84dbb": {
          "model_module": "@jupyter-widgets/controls",
          "model_name": "DescriptionStyleModel",
          "model_module_version": "1.5.0",
          "state": {
            "_model_module": "@jupyter-widgets/controls",
            "_model_module_version": "1.5.0",
            "_model_name": "DescriptionStyleModel",
            "_view_count": null,
            "_view_module": "@jupyter-widgets/base",
            "_view_module_version": "1.2.0",
            "_view_name": "StyleView",
            "description_width": ""
          }
        },
        "6d09b9b012ce44fcb022219528066264": {
          "model_module": "@jupyter-widgets/base",
          "model_name": "LayoutModel",
          "model_module_version": "1.2.0",
          "state": {
            "_model_module": "@jupyter-widgets/base",
            "_model_module_version": "1.2.0",
            "_model_name": "LayoutModel",
            "_view_count": null,
            "_view_module": "@jupyter-widgets/base",
            "_view_module_version": "1.2.0",
            "_view_name": "LayoutView",
            "align_content": null,
            "align_items": null,
            "align_self": null,
            "border": null,
            "bottom": null,
            "display": null,
            "flex": null,
            "flex_flow": null,
            "grid_area": null,
            "grid_auto_columns": null,
            "grid_auto_flow": null,
            "grid_auto_rows": null,
            "grid_column": null,
            "grid_gap": null,
            "grid_row": null,
            "grid_template_areas": null,
            "grid_template_columns": null,
            "grid_template_rows": null,
            "height": null,
            "justify_content": null,
            "justify_items": null,
            "left": null,
            "margin": null,
            "max_height": null,
            "max_width": null,
            "min_height": null,
            "min_width": null,
            "object_fit": null,
            "object_position": null,
            "order": null,
            "overflow": null,
            "overflow_x": null,
            "overflow_y": null,
            "padding": null,
            "right": null,
            "top": null,
            "visibility": null,
            "width": null
          }
        },
        "51c3b1cbe6d244ae9acd1fca71119b36": {
          "model_module": "@jupyter-widgets/controls",
          "model_name": "ProgressStyleModel",
          "model_module_version": "1.5.0",
          "state": {
            "_model_module": "@jupyter-widgets/controls",
            "_model_module_version": "1.5.0",
            "_model_name": "ProgressStyleModel",
            "_view_count": null,
            "_view_module": "@jupyter-widgets/base",
            "_view_module_version": "1.2.0",
            "_view_name": "StyleView",
            "bar_color": null,
            "description_width": ""
          }
        },
        "9ba620603643431c908e0f65e7ab7144": {
          "model_module": "@jupyter-widgets/base",
          "model_name": "LayoutModel",
          "model_module_version": "1.2.0",
          "state": {
            "_model_module": "@jupyter-widgets/base",
            "_model_module_version": "1.2.0",
            "_model_name": "LayoutModel",
            "_view_count": null,
            "_view_module": "@jupyter-widgets/base",
            "_view_module_version": "1.2.0",
            "_view_name": "LayoutView",
            "align_content": null,
            "align_items": null,
            "align_self": null,
            "border": null,
            "bottom": null,
            "display": null,
            "flex": null,
            "flex_flow": null,
            "grid_area": null,
            "grid_auto_columns": null,
            "grid_auto_flow": null,
            "grid_auto_rows": null,
            "grid_column": null,
            "grid_gap": null,
            "grid_row": null,
            "grid_template_areas": null,
            "grid_template_columns": null,
            "grid_template_rows": null,
            "height": null,
            "justify_content": null,
            "justify_items": null,
            "left": null,
            "margin": null,
            "max_height": null,
            "max_width": null,
            "min_height": null,
            "min_width": null,
            "object_fit": null,
            "object_position": null,
            "order": null,
            "overflow": null,
            "overflow_x": null,
            "overflow_y": null,
            "padding": null,
            "right": null,
            "top": null,
            "visibility": null,
            "width": null
          }
        },
        "4d46ea8f374846a6b9c4b53844adb58a": {
          "model_module": "@jupyter-widgets/controls",
          "model_name": "DescriptionStyleModel",
          "model_module_version": "1.5.0",
          "state": {
            "_model_module": "@jupyter-widgets/controls",
            "_model_module_version": "1.5.0",
            "_model_name": "DescriptionStyleModel",
            "_view_count": null,
            "_view_module": "@jupyter-widgets/base",
            "_view_module_version": "1.2.0",
            "_view_name": "StyleView",
            "description_width": ""
          }
        }
      }
    }
  },
  "cells": [
    {
      "cell_type": "code",
      "source": [
        "from google.colab import drive\n",
        "drive.mount('/content/drive')"
      ],
      "metadata": {
        "colab": {
          "base_uri": "https://localhost:8080/"
        },
        "id": "x2sPVEc0dXqb",
        "outputId": "d47942d8-3e37-497e-8f56-f2f8670bae06"
      },
      "execution_count": 2,
      "outputs": [
        {
          "output_type": "stream",
          "name": "stdout",
          "text": [
            "Drive already mounted at /content/drive; to attempt to forcibly remount, call drive.mount(\"/content/drive\", force_remount=True).\n"
          ]
        }
      ]
    },
    {
      "cell_type": "code",
      "source": [
        "! nvidia-smi"
      ],
      "metadata": {
        "colab": {
          "base_uri": "https://localhost:8080/"
        },
        "id": "qwDJzdnNdXfH",
        "outputId": "dfb4711c-364f-4d2f-95ad-5be434e6d1ed"
      },
      "execution_count": 3,
      "outputs": [
        {
          "output_type": "stream",
          "name": "stdout",
          "text": [
            "Mon Jul 24 20:07:05 2023       \n",
            "+-----------------------------------------------------------------------------+\n",
            "| NVIDIA-SMI 525.105.17   Driver Version: 525.105.17   CUDA Version: 12.0     |\n",
            "|-------------------------------+----------------------+----------------------+\n",
            "| GPU  Name        Persistence-M| Bus-Id        Disp.A | Volatile Uncorr. ECC |\n",
            "| Fan  Temp  Perf  Pwr:Usage/Cap|         Memory-Usage | GPU-Util  Compute M. |\n",
            "|                               |                      |               MIG M. |\n",
            "|===============================+======================+======================|\n",
            "|   0  Tesla T4            Off  | 00000000:00:04.0 Off |                    0 |\n",
            "| N/A   39C    P8    10W /  70W |      0MiB / 15360MiB |      0%      Default |\n",
            "|                               |                      |                  N/A |\n",
            "+-------------------------------+----------------------+----------------------+\n",
            "                                                                               \n",
            "+-----------------------------------------------------------------------------+\n",
            "| Processes:                                                                  |\n",
            "|  GPU   GI   CI        PID   Type   Process name                  GPU Memory |\n",
            "|        ID   ID                                                   Usage      |\n",
            "|=============================================================================|\n",
            "|  No running processes found                                                 |\n",
            "+-----------------------------------------------------------------------------+\n"
          ]
        }
      ]
    },
    {
      "cell_type": "markdown",
      "source": [
        "##1. Download MS MARCO Dataset\n",
        "\n",
        "<a href= \"https://microsoft.github.io/msmarco/\" > MS MARCO</a> (Microsoft Machine Reading Comprehension Dataset)\n",
        "\n",
        "```\n",
        "\"query (string)\": Cột chứa mô tả câu truy vấn\n",
        "\"passages (sequence)\": Cột chứa các tài liệu có nội dung tương đồng câu truy vấn.\n",
        "is_selected = 1\n",
        "\n",
        "```"
      ],
      "metadata": {
        "id": "mSiqMPSZBALR"
      }
    },
    {
      "cell_type": "code",
      "execution_count": 4,
      "metadata": {
        "colab": {
          "base_uri": "https://localhost:8080/"
        },
        "id": "p1iGeXUAAxtV",
        "outputId": "b75dc756-51c2-4457-f3ab-f053a10cf1ff"
      },
      "outputs": [
        {
          "output_type": "stream",
          "name": "stdout",
          "text": [
            "/content/drive/MyDrive/AIO_2023_Code/Module 02/Text_Retrieval\n",
            "Requirement already satisfied: datasets==2.13.1 in /usr/local/lib/python3.10/dist-packages (2.13.1)\n",
            "Requirement already satisfied: numpy>=1.17 in /usr/local/lib/python3.10/dist-packages (from datasets==2.13.1) (1.22.4)\n",
            "Requirement already satisfied: pyarrow>=8.0.0 in /usr/local/lib/python3.10/dist-packages (from datasets==2.13.1) (9.0.0)\n",
            "Requirement already satisfied: dill<0.3.7,>=0.3.0 in /usr/local/lib/python3.10/dist-packages (from datasets==2.13.1) (0.3.6)\n",
            "Requirement already satisfied: pandas in /usr/local/lib/python3.10/dist-packages (from datasets==2.13.1) (1.5.3)\n",
            "Requirement already satisfied: requests>=2.19.0 in /usr/local/lib/python3.10/dist-packages (from datasets==2.13.1) (2.27.1)\n",
            "Requirement already satisfied: tqdm>=4.62.1 in /usr/local/lib/python3.10/dist-packages (from datasets==2.13.1) (4.65.0)\n",
            "Requirement already satisfied: xxhash in /usr/local/lib/python3.10/dist-packages (from datasets==2.13.1) (3.2.0)\n",
            "Requirement already satisfied: multiprocess in /usr/local/lib/python3.10/dist-packages (from datasets==2.13.1) (0.70.14)\n",
            "Requirement already satisfied: fsspec[http]>=2021.11.1 in /usr/local/lib/python3.10/dist-packages (from datasets==2.13.1) (2023.6.0)\n",
            "Requirement already satisfied: aiohttp in /usr/local/lib/python3.10/dist-packages (from datasets==2.13.1) (3.8.4)\n",
            "Requirement already satisfied: huggingface-hub<1.0.0,>=0.11.0 in /usr/local/lib/python3.10/dist-packages (from datasets==2.13.1) (0.16.4)\n",
            "Requirement already satisfied: packaging in /usr/local/lib/python3.10/dist-packages (from datasets==2.13.1) (23.1)\n",
            "Requirement already satisfied: pyyaml>=5.1 in /usr/local/lib/python3.10/dist-packages (from datasets==2.13.1) (6.0.1)\n",
            "Requirement already satisfied: attrs>=17.3.0 in /usr/local/lib/python3.10/dist-packages (from aiohttp->datasets==2.13.1) (23.1.0)\n",
            "Requirement already satisfied: charset-normalizer<4.0,>=2.0 in /usr/local/lib/python3.10/dist-packages (from aiohttp->datasets==2.13.1) (2.0.12)\n",
            "Requirement already satisfied: multidict<7.0,>=4.5 in /usr/local/lib/python3.10/dist-packages (from aiohttp->datasets==2.13.1) (6.0.4)\n",
            "Requirement already satisfied: async-timeout<5.0,>=4.0.0a3 in /usr/local/lib/python3.10/dist-packages (from aiohttp->datasets==2.13.1) (4.0.2)\n",
            "Requirement already satisfied: yarl<2.0,>=1.0 in /usr/local/lib/python3.10/dist-packages (from aiohttp->datasets==2.13.1) (1.9.2)\n",
            "Requirement already satisfied: frozenlist>=1.1.1 in /usr/local/lib/python3.10/dist-packages (from aiohttp->datasets==2.13.1) (1.4.0)\n",
            "Requirement already satisfied: aiosignal>=1.1.2 in /usr/local/lib/python3.10/dist-packages (from aiohttp->datasets==2.13.1) (1.3.1)\n",
            "Requirement already satisfied: filelock in /usr/local/lib/python3.10/dist-packages (from huggingface-hub<1.0.0,>=0.11.0->datasets==2.13.1) (3.12.2)\n",
            "Requirement already satisfied: typing-extensions>=3.7.4.3 in /usr/local/lib/python3.10/dist-packages (from huggingface-hub<1.0.0,>=0.11.0->datasets==2.13.1) (4.7.1)\n",
            "Requirement already satisfied: urllib3<1.27,>=1.21.1 in /usr/local/lib/python3.10/dist-packages (from requests>=2.19.0->datasets==2.13.1) (1.26.16)\n",
            "Requirement already satisfied: certifi>=2017.4.17 in /usr/local/lib/python3.10/dist-packages (from requests>=2.19.0->datasets==2.13.1) (2023.5.7)\n",
            "Requirement already satisfied: idna<4,>=2.5 in /usr/local/lib/python3.10/dist-packages (from requests>=2.19.0->datasets==2.13.1) (3.4)\n",
            "Requirement already satisfied: python-dateutil>=2.8.1 in /usr/local/lib/python3.10/dist-packages (from pandas->datasets==2.13.1) (2.8.2)\n",
            "Requirement already satisfied: pytz>=2020.1 in /usr/local/lib/python3.10/dist-packages (from pandas->datasets==2.13.1) (2022.7.1)\n",
            "Requirement already satisfied: six>=1.5 in /usr/local/lib/python3.10/dist-packages (from python-dateutil>=2.8.1->pandas->datasets==2.13.1) (1.16.0)\n"
          ]
        }
      ],
      "source": [
        "%cd /content/drive/MyDrive/AIO_2023_Code/Module 02/Text_Retrieval\n",
        "!pip install datasets==2.13.1"
      ]
    },
    {
      "cell_type": "code",
      "source": [
        "%cd /content/drive/MyDrive/AIO_2023_Code/Module 02/Text_Retrieval\n",
        "\n",
        "from datasets import load_dataset\n",
        "dataset = load_dataset ('ms_marco', 'v1.1')"
      ],
      "metadata": {
        "colab": {
          "base_uri": "https://localhost:8080/",
          "height": 84,
          "referenced_widgets": [
            "704f7312fb2b46b8aa8f7c5a60200b11",
            "d926ee4656234a1e82d0a0230da7157c",
            "d596c6dc995c4e83a5b11bebd942cd3e",
            "8519b15e22364d8b85b6593d7a1a70e3",
            "9d41389cd40d4055903268e325add05c",
            "928d161062294175ba348e0089c53d4a",
            "5a0146232258440c9338e9f4d8f84dbb",
            "6d09b9b012ce44fcb022219528066264",
            "51c3b1cbe6d244ae9acd1fca71119b36",
            "9ba620603643431c908e0f65e7ab7144",
            "4d46ea8f374846a6b9c4b53844adb58a"
          ]
        },
        "id": "AF5geUZh0P34",
        "outputId": "39008c7e-0096-4a29-d86f-15af16384740"
      },
      "execution_count": 5,
      "outputs": [
        {
          "output_type": "stream",
          "name": "stdout",
          "text": [
            "/content/drive/MyDrive/AIO_2023_Code/Module 02/Text_Retrieval\n"
          ]
        },
        {
          "output_type": "stream",
          "name": "stderr",
          "text": [
            "WARNING:datasets.builder:Found cached dataset ms_marco (/root/.cache/huggingface/datasets/ms_marco/v1.1/1.1.0/b6a62715fa5219aea5275dd3556601004cd63945cb63e36e022f77bb3cbbca84)\n"
          ]
        },
        {
          "output_type": "display_data",
          "data": {
            "text/plain": [
              "  0%|          | 0/3 [00:00<?, ?it/s]"
            ],
            "application/vnd.jupyter.widget-view+json": {
              "version_major": 2,
              "version_minor": 0,
              "model_id": "704f7312fb2b46b8aa8f7c5a60200b11"
            }
          },
          "metadata": {}
        }
      ]
    },
    {
      "cell_type": "markdown",
      "source": [
        "## 2. Building a list of queries and documents:  \n"
      ],
      "metadata": {
        "id": "OGwAxkA80YHi"
      }
    },
    {
      "cell_type": "code",
      "source": [
        "# a. chọn bộ test\n",
        "subset = dataset['test']\n",
        "# b. define list set retrieval and document relevant\n",
        "queries_infos = []\n",
        "queries = []\n",
        "corpus = []\n",
        "# c. Thực hiện việc tách dữ liệu:\n",
        "for sample in subset :\n",
        "  query_type = sample ['query_type']\n",
        "  if query_type != 'entity':\n",
        "    continue\n",
        "  query_id = sample ['query_id']\n",
        "  query_str = sample ['query']\n",
        "  passages_dict = sample ['passages']\n",
        "  is_selected_lst = passages_dict ['is_selected']\n",
        "  passage_text_lst = passages_dict ['passage_text']\n",
        "  query_info = {\n",
        "    'query_id': query_id ,\n",
        "    'query': query_str ,\n",
        "    'relevant_docs': []\n",
        "    }\n",
        "  current_len_corpus = len ( corpus )\n",
        "  for idx in range (len ( is_selected_lst )):\n",
        "    if is_selected_lst [idx] == 1:\n",
        "      doc_idx = current_len_corpus + idx\n",
        "      query_info ['relevant_docs'].append ( doc_idx )\n",
        "  if query_info ['relevant_docs'] == []:\n",
        "    continue\n",
        "  queries.append ( query_str )\n",
        "  queries_infos.append ( query_info )\n",
        "  corpus += passage_text_lst\n",
        ""
      ],
      "metadata": {
        "id": "lnXNUxzFBA3a"
      },
      "execution_count": 6,
      "outputs": []
    },
    {
      "cell_type": "markdown",
      "source": [
        "## 3. Text Normalization:\n",
        "```\n",
        "• Chuyển chữ viết thường (Lowercasing)\n",
        "• Xóa dấu câu (Punctuations Removal)\n",
        "• Xóa stopwords (Stopwords Removal)\n",
        "• Stemming\n",
        "```\n",
        "Design function:\n",
        "**text_normalize()**"
      ],
      "metadata": {
        "id": "WnfHg518BBB1"
      }
    },
    {
      "cell_type": "code",
      "source": [
        "%cd /content/drive/MyDrive/AIO_2023_Code/Module 02/Text_Retrieval\n",
        "!pip install nltk # for local laptop/PC\n",
        "# !pip install string"
      ],
      "metadata": {
        "colab": {
          "base_uri": "https://localhost:8080/"
        },
        "id": "MX1AYNrFQUay",
        "outputId": "db59a8e5-a367-46df-9cfc-ad85acaef202"
      },
      "execution_count": 7,
      "outputs": [
        {
          "output_type": "stream",
          "name": "stdout",
          "text": [
            "/content/drive/MyDrive/AIO_2023_Code/Module 02/Text_Retrieval\n",
            "Requirement already satisfied: nltk in /usr/local/lib/python3.10/dist-packages (3.8.1)\n",
            "Requirement already satisfied: click in /usr/local/lib/python3.10/dist-packages (from nltk) (8.1.6)\n",
            "Requirement already satisfied: joblib in /usr/local/lib/python3.10/dist-packages (from nltk) (1.3.1)\n",
            "Requirement already satisfied: regex>=2021.8.3 in /usr/local/lib/python3.10/dist-packages (from nltk) (2022.10.31)\n",
            "Requirement already satisfied: tqdm in /usr/local/lib/python3.10/dist-packages (from nltk) (4.65.0)\n"
          ]
        }
      ]
    },
    {
      "cell_type": "code",
      "source": [
        "def tokenize(text):\n",
        "    return text.split()"
      ],
      "metadata": {
        "id": "NGFEh4hFo_vv"
      },
      "execution_count": 8,
      "outputs": []
    },
    {
      "cell_type": "code",
      "source": [
        "import string\n",
        "import nltk\n",
        "from nltk.corpus import stopwords\n",
        "from nltk.stem import PorterStemmer\n",
        "nltk.download('stopwords')\n",
        "english_stopwords = stopwords.words('english')\n",
        "remove_chars = string.punctuation\n",
        "stemmer = PorterStemmer ()\n",
        "def text_normalize( text ):\n",
        "  text = text.lower ()\n",
        "  for char in remove_chars :\n",
        "    text = text.replace(char , ' ' )\n",
        "    text = ' '.join ([ word for word in tokenize ( text ) if word not in english_stopwords ])\n",
        "    text = ' '.join ([ stemmer . stem ( word ) for word in tokenize ( text )])\n",
        "  return text\n"
      ],
      "metadata": {
        "colab": {
          "base_uri": "https://localhost:8080/"
        },
        "id": "Lc-OgT3BBBVJ",
        "outputId": "88333420-922f-4afa-e7ba-fb6097b4dd23"
      },
      "execution_count": 9,
      "outputs": [
        {
          "output_type": "stream",
          "name": "stderr",
          "text": [
            "[nltk_data] Downloading package stopwords to /root/nltk_data...\n",
            "[nltk_data]   Package stopwords is already up-to-date!\n"
          ]
        }
      ]
    },
    {
      "cell_type": "markdown",
      "source": [
        "## 4. Create dictionary:\n"
      ],
      "metadata": {
        "id": "VREoYBmABBsJ"
      }
    },
    {
      "cell_type": "code",
      "source": [
        "def create_dictionary ( corpus ):\n",
        "  dictionary = []\n",
        "  for doc in corpus :\n",
        "    normalized_doc = text_normalize (doc )\n",
        "    tokens = tokenize ( normalized_doc )\n",
        "    for token in tokens :\n",
        "      if token not in dictionary :\n",
        "        dictionary.append ( token )\n",
        "  return dictionary"
      ],
      "metadata": {
        "id": "Yz6ssc3kBB_E"
      },
      "execution_count": 10,
      "outputs": []
    },
    {
      "cell_type": "code",
      "source": [
        "%%time\n",
        "\n",
        "dictionary = create_dictionary(corpus)"
      ],
      "metadata": {
        "colab": {
          "base_uri": "https://localhost:8080/"
        },
        "id": "XGPQqNEMpMFp",
        "outputId": "88589c9e-aaf5-49d1-ea85-465561f5edf8"
      },
      "execution_count": 11,
      "outputs": [
        {
          "output_type": "stream",
          "name": "stdout",
          "text": [
            "CPU times: user 4min 24s, sys: 829 ms, total: 4min 24s\n",
            "Wall time: 4min 36s\n"
          ]
        }
      ]
    },
    {
      "cell_type": "markdown",
      "source": [
        "## 5. Create Vectorization:\n",
        "\n",
        "<a hef = \"https://www.mygreatlearning.com/blog/bag-of-words/\">Bag of Words\n",
        "(BoW) </a>\n",
        "\n",
        "\n",
        "\n",
        "\n",
        "\n",
        "\n"
      ],
      "metadata": {
        "id": "5f_PbgmJBCKZ"
      }
    },
    {
      "cell_type": "code",
      "source": [
        "def vectorize (text , dictionary ):\n",
        "  word_count_dict = { word : 0 for word in dictionary }\n",
        "  tokens = tokenize ( text )\n",
        "  for token in tokens :\n",
        "    try :\n",
        "      word_count_dict [ token ] += 1\n",
        "    except :\n",
        "      pass\n",
        "  vector = list ( word_count_dict.values ())\n",
        "  return vector"
      ],
      "metadata": {
        "id": "2j9RElhXBCfn"
      },
      "execution_count": 12,
      "outputs": []
    },
    {
      "cell_type": "markdown",
      "source": [
        "## 6. Create document-term Matrix:"
      ],
      "metadata": {
        "id": "aYKU-BLL4pn3"
      }
    },
    {
      "cell_type": "code",
      "source": [
        "def create_doc_term_matrix ( corpus , dictionary ):\n",
        "  doc_term_matrix = {}\n",
        "  for idx , doc in enumerate ( corpus ):\n",
        "    normalized_doc = text_normalize (doc )\n",
        "    vector = vectorize ( normalized_doc , dictionary )\n",
        "    doc_term_matrix [( doc , idx)] = vector\n",
        "  return doc_term_matrix"
      ],
      "metadata": {
        "id": "3Z9ToMiWTH-d"
      },
      "execution_count": 13,
      "outputs": []
    },
    {
      "cell_type": "code",
      "source": [
        "%%time\n",
        "doc_term_matrix = create_doc_term_matrix(corpus, dictionary)"
      ],
      "metadata": {
        "colab": {
          "base_uri": "https://localhost:8080/"
        },
        "id": "P-Zyn-63pn-n",
        "outputId": "3aac03ee-8df2-4836-99ae-bca94f3c1a34"
      },
      "execution_count": 14,
      "outputs": [
        {
          "output_type": "stream",
          "name": "stdout",
          "text": [
            "CPU times: user 4min 25s, sys: 1.4 s, total: 4min 26s\n",
            "Wall time: 4min 30s\n"
          ]
        }
      ]
    },
    {
      "cell_type": "markdown",
      "source": [
        "## 7. Calculate Cosine Similarity:"
      ],
      "metadata": {
        "id": "gsPsY5LB4rl3"
      }
    },
    {
      "cell_type": "code",
      "source": [
        "from scipy import spatial\n",
        "def similarity (a, b):\n",
        "  return 1 - spatial.distance.cosine(a, b)"
      ],
      "metadata": {
        "id": "ytOJYKC7TIYj"
      },
      "execution_count": 15,
      "outputs": []
    },
    {
      "cell_type": "markdown",
      "source": [
        "## 8. Ranking"
      ],
      "metadata": {
        "id": "nV_YXwL-4rjI"
      }
    },
    {
      "cell_type": "code",
      "source": [
        "def ranking (query , dictionary , doc_term_matrix ):\n",
        "  normalized_query = text_normalize ( query )\n",
        "  query_vec = vectorize ( normalized_query , dictionary )\n",
        "  scores = []\n",
        "  for doc_info , doc_vec in doc_term_matrix.items ():\n",
        "    sim = similarity ( query_vec , doc_vec )\n",
        "    scores.append (( sim , doc_info ))\n",
        "    scores.sort ( reverse = True )\n",
        "  return scores"
      ],
      "metadata": {
        "id": "Trzcq7CLTIxn"
      },
      "execution_count": 16,
      "outputs": []
    },
    {
      "cell_type": "markdown",
      "source": [
        "## 9. Function Retrieval:\n",
        "\n",
        "<a href = \"https://huggingface.co/datasets/ms_marco/viewer/v1.1/test\"> ms_marco </a>"
      ],
      "metadata": {
        "id": "xoqYRf7P4rgr"
      }
    },
    {
      "cell_type": "code",
      "source": [
        "%%time\n",
        "query_lst = ['what is the official language in Fiji']\n",
        "# query_lst = input(\"Query Retrieval = \")\n",
        "top_k = 10\n",
        "# top_k = 4\n",
        "for query in query_lst :\n",
        "  scores = ranking (query , dictionary , doc_term_matrix )\n",
        "  print (f'Query : { query }')\n",
        "  print ('=== Relevant docs ===')\n",
        "  for idx in range ( top_k ):\n",
        "    doc_score = scores [idx ][0]\n",
        "    doc_content = scores [idx ][1][0]\n",
        "    print (f'Top { idx + 1}; Score : { doc_score :.4f}')\n",
        "    print ( doc_content )\n",
        "    print ('\\n')"
      ],
      "metadata": {
        "colab": {
          "base_uri": "https://localhost:8080/"
        },
        "id": "8hXa1rbMTJLV",
        "outputId": "7da0ad0f-dae9-44bf-ad6d-d0eabe5c2e62"
      },
      "execution_count": 17,
      "outputs": [
        {
          "output_type": "stream",
          "name": "stdout",
          "text": [
            "Query : what is the official language in Fiji\n",
            "=== Relevant docs ===\n",
            "Top 1; Score : 0.6667\n",
            "The official languages in Fiji are Fijian and English. A dialect of Hindustani is also widely spoken among Indo-Fijians.  _________________________________________   T … he official and everyday language of Fiji is English. Fijian and Fiji-Hindi are second languages in the island nation.\n",
            "\n",
            "\n",
            "Top 2; Score : 0.6667\n",
            "The official languages in Fiji are Fijian and English. A dialect of Hindustani is also widely spoken among Indo-Fijians.  _________________________________________   T … he official and everyday language of Fiji is English. Fijian and Fiji-Hindi are second languages in the island nation.\n",
            "\n",
            "\n",
            "Top 3; Score : 0.5659\n",
            "The official languages. Fiji’s 1997 Constitution established Fijian as one of the official languages of the country. Fijian is an Austronesian language, a grouping that includes thousands of other languages spanning the globe. The language is of the Malayo-Polynesian family, not too different from Hawaiian and Maori.\n",
            "\n",
            "\n",
            "Top 4; Score : 0.5604\n",
            "Of all the languages of Russia, Russian is the only official language. There are 35 different languages which are considered official languages in various regions of Russia, along with Russian. There are over 100 minority languages spoken in Russia today.\n",
            "\n",
            "\n",
            "Top 5; Score : 0.5570\n",
            "Finnish is one of two official languages of Finland (the other being Swedish, spoken by 5.42% of the population as of 2010) and an official language of the European Union. It enjoys the status of an official minority language in Sweden. It is one of the two official languages of Finland and an official minority language in Sweden. In Sweden, both standard Finnish and Meaenkieli, meänkieli A finnish, dialect are. Spoken The kven, language a dialect Of, finnish is spoken In Northern. norway\n",
            "\n",
            "\n",
            "Top 6; Score : 0.5307\n",
            "Liberia is a multilingual country where more than thirty languages are spoken. English is the official language. None of the languages group forms a distinctive majority. These languages can be grouped in four language families: Mande, Kru, Mel, and the divergent language Gola.\n",
            "\n",
            "\n",
            "Top 7; Score : 0.5108\n",
            "There are over 120 ethnic groups, each with its own language or dialect. Indigenous Tanzanians make up 99 % of the population, while other ethnic groups include Asians, Europeans and Arabs. KiSwahili is the official, universally-spoken language in Tanzania. English, also an official language, is the language of commerce.\n",
            "\n",
            "\n",
            "Top 8; Score : 0.5094\n",
            "the two official languages every country in the world has official languages that are spoken amongst the population these languages are generally what are fluently spoken by all residents in canada the two official languages are english and french alongside this 6 2 % of canadians stated that they only speak a language other than english or french at home the different languages of canada with over 200 different languages that are spoken throughout the country the list of different languages in canada would be extensive based on the most populated cities in the country below is a list of commonly spoken languages aside from english and french cantonese\n",
            "\n",
            "\n",
            "Top 9; Score : 0.4851\n",
            "Russian is the official language of the Russian Federation, sharing its official status at the regional level with other languages in various ethnic autonomous regions within the Federation, such as Chuvash, Bashkort, Tatar, and Yakut. Russian is also a co-official language of Belarus, Kazakhstan, and Kyrgyzstan.\n",
            "\n",
            "\n",
            "Top 10; Score : 0.4746\n",
            "Fiji Language. The Fijian language spoken in Fiji is a type of Austronesian langauge and is part of the Malayo-Polynesian family. The Austronesian languages are normally found among islands in continental and Southeast Asia along with islands in the Pacific.\n",
            "\n",
            "\n",
            "CPU times: user 32.1 s, sys: 117 ms, total: 32.2 s\n",
            "Wall time: 32.4 s\n"
          ]
        }
      ]
    },
    {
      "cell_type": "code",
      "source": [
        "%%time\n",
        "# query_lst = ['what is the official language in Fiji']\n",
        "query_lst = []\n",
        "query_input = input(\"Query Retrieval = \")\n",
        "query_lst.append(query_input)\n",
        "top_k = 4\n",
        "\n",
        "for query in query_lst:\n",
        "    scores = ranking(query, dictionary, doc_term_matrix)\n",
        "    print(f'Query: {query}')\n",
        "    print('=== Relevant docs ===')\n",
        "    for idx in range(top_k):\n",
        "        doc_score = scores[idx][0]\n",
        "        doc_content = scores[idx][1][0]\n",
        "        print(f'Top {idx + 1}; Score: {doc_score:.4f}')\n",
        "        print(doc_content)\n",
        "        print('\\n')\n"
      ],
      "metadata": {
        "colab": {
          "base_uri": "https://localhost:8080/"
        },
        "id": "4JBLwfJuoePo",
        "outputId": "cebf1de0-caae-428e-d19b-62fe9fec173e"
      },
      "execution_count": 24,
      "outputs": [
        {
          "output_type": "stream",
          "name": "stdout",
          "text": [
            "Query Retrieval = what is the official language in Fiji\n",
            "Query: what is the official language in Fiji\n",
            "=== Relevant docs ===\n",
            "Top 1; Score: 0.6667\n",
            "The official languages in Fiji are Fijian and English. A dialect of Hindustani is also widely spoken among Indo-Fijians.  _________________________________________   T … he official and everyday language of Fiji is English. Fijian and Fiji-Hindi are second languages in the island nation.\n",
            "\n",
            "\n",
            "Top 2; Score: 0.6667\n",
            "The official languages in Fiji are Fijian and English. A dialect of Hindustani is also widely spoken among Indo-Fijians.  _________________________________________   T … he official and everyday language of Fiji is English. Fijian and Fiji-Hindi are second languages in the island nation.\n",
            "\n",
            "\n",
            "Top 3; Score: 0.5659\n",
            "The official languages. Fiji’s 1997 Constitution established Fijian as one of the official languages of the country. Fijian is an Austronesian language, a grouping that includes thousands of other languages spanning the globe. The language is of the Malayo-Polynesian family, not too different from Hawaiian and Maori.\n",
            "\n",
            "\n",
            "Top 4; Score: 0.5604\n",
            "Of all the languages of Russia, Russian is the only official language. There are 35 different languages which are considered official languages in various regions of Russia, along with Russian. There are over 100 minority languages spoken in Russia today.\n",
            "\n",
            "\n",
            "CPU times: user 33.3 s, sys: 106 ms, total: 33.4 s\n",
            "Wall time: 36.6 s\n"
          ]
        }
      ]
    },
    {
      "cell_type": "code",
      "source": [
        "# what functions do tendons serve\n",
        "%%time\n",
        "query_lst = ['what functions do tendons serve']\n",
        "# query_lst = input(\"Query Retrieval = \")\n",
        "# top_k = 10\n",
        "top_k = 4\n",
        "for query in query_lst :\n",
        "  scores = ranking (query , dictionary , doc_term_matrix )\n",
        "  print (f'Query : { query }')\n",
        "  print ('=== Relevant docs ===')\n",
        "  for idx in range ( top_k ):\n",
        "    doc_score = scores [idx ][0]\n",
        "    doc_content = scores [idx ][1][0]\n",
        "    print (f'Top { idx + 1}; Score : { doc_score :.4f}')\n",
        "    print ( doc_content )\n",
        "    print ('\\n')\n"
      ],
      "metadata": {
        "colab": {
          "base_uri": "https://localhost:8080/"
        },
        "id": "H_fbJkMWkX0D",
        "outputId": "9401bf0e-f76f-4dfb-ecef-e910f606a743"
      },
      "execution_count": 21,
      "outputs": [
        {
          "output_type": "stream",
          "name": "stdout",
          "text": [
            "Query : what functions do tendons serve\n",
            "=== Relevant docs ===\n",
            "Top 1; Score : 0.3113\n",
            "A common trend is to see functional symptoms and syndromes such as fibromyalgia, irritable bowel syndrome and functional neurological symptoms such as functional weakness as symptoms in which both biological and psychological factors are relevant, without one necessarily being dominant. (May 2015). A functional symptom is a medical symptom in an individual which is very broadly conceived as arising from a problem in nervous system 'functioning' and not due to a structural or pathologically defined disease cause.\n",
            "\n",
            "\n",
            "Top 2; Score : 0.2448\n",
            "The main function of the muscular system is movement. Muscles are the only tissue in the body that has the ability to contract and therefore move the other parts of the body. Related to the function of movement is the muscular system’s second function: the maintenance of posture and body position. Attached to the bones of the skeletal system are about 700 named muscles that make up roughly half of a person’s body weight. Each of these muscles is a discrete organ constructed of skeletal muscle tissue, blood vessels, tendons, and nerves.\n",
            "\n",
            "\n",
            "Top 3; Score : 0.2357\n",
            "Hakarl hákarl is served as part of a, þorramatur a selection of Traditional icelandic food served at þorrablot þorrablót. In midwinter it is readily Available in icelandic stores and is eaten. year round \n",
            "\n",
            "\n",
            "Top 4; Score : 0.2236\n",
            "Whilst misdiagnosis of functional symptoms does occur, in neurology, for example, this appears to occur no more frequently than of other neurological or psychiatric syndromes. Although, in order to be quantified, misdiagnosis has to be recognized as such, which can be problematic in such a challenging field as medicine. (May 2015). A functional symptom is a medical symptom in an individual which is very broadly conceived as arising from a problem in nervous system 'functioning' and not due to a structural or pathologically defined disease cause.\n",
            "\n",
            "\n",
            "CPU times: user 33.5 s, sys: 106 ms, total: 33.6 s\n",
            "Wall time: 35.7 s\n"
          ]
        }
      ]
    },
    {
      "cell_type": "code",
      "source": [
        "%%time\n",
        "# query_lst = ['what functions do tendons serve']\n",
        "query_lst = []\n",
        "query_input = input(\"Query Retrieval = \")\n",
        "query_lst.append(query_input)\n",
        "top_k = 4\n",
        "\n",
        "for query in query_lst:\n",
        "    scores = ranking(query, dictionary, doc_term_matrix)\n",
        "    print(f'Query: {query}')\n",
        "    print('=== Relevant docs ===')\n",
        "    for idx in range(top_k):\n",
        "        doc_score = scores[idx][0]\n",
        "        doc_content = scores[idx][1][0]\n",
        "        print(f'Top {idx + 1}; Score: {doc_score:.4f}')\n",
        "        print(doc_content)\n",
        "        print('\\n')\n"
      ],
      "metadata": {
        "colab": {
          "base_uri": "https://localhost:8080/"
        },
        "id": "Gda64LGsoOfm",
        "outputId": "9f923f2b-1d56-4539-e66f-37edcd1447d4"
      },
      "execution_count": 23,
      "outputs": [
        {
          "output_type": "stream",
          "name": "stdout",
          "text": [
            "Query Retrieval = what functions do tendons serve\n",
            "Query: what functions do tendons serve\n",
            "=== Relevant docs ===\n",
            "Top 1; Score: 0.3113\n",
            "A common trend is to see functional symptoms and syndromes such as fibromyalgia, irritable bowel syndrome and functional neurological symptoms such as functional weakness as symptoms in which both biological and psychological factors are relevant, without one necessarily being dominant. (May 2015). A functional symptom is a medical symptom in an individual which is very broadly conceived as arising from a problem in nervous system 'functioning' and not due to a structural or pathologically defined disease cause.\n",
            "\n",
            "\n",
            "Top 2; Score: 0.2448\n",
            "The main function of the muscular system is movement. Muscles are the only tissue in the body that has the ability to contract and therefore move the other parts of the body. Related to the function of movement is the muscular system’s second function: the maintenance of posture and body position. Attached to the bones of the skeletal system are about 700 named muscles that make up roughly half of a person’s body weight. Each of these muscles is a discrete organ constructed of skeletal muscle tissue, blood vessels, tendons, and nerves.\n",
            "\n",
            "\n",
            "Top 3; Score: 0.2357\n",
            "Hakarl hákarl is served as part of a, þorramatur a selection of Traditional icelandic food served at þorrablot þorrablót. In midwinter it is readily Available in icelandic stores and is eaten. year round \n",
            "\n",
            "\n",
            "Top 4; Score: 0.2236\n",
            "Whilst misdiagnosis of functional symptoms does occur, in neurology, for example, this appears to occur no more frequently than of other neurological or psychiatric syndromes. Although, in order to be quantified, misdiagnosis has to be recognized as such, which can be problematic in such a challenging field as medicine. (May 2015). A functional symptom is a medical symptom in an individual which is very broadly conceived as arising from a problem in nervous system 'functioning' and not due to a structural or pathologically defined disease cause.\n",
            "\n",
            "\n",
            "CPU times: user 33.4 s, sys: 112 ms, total: 33.5 s\n",
            "Wall time: 37.7 s\n"
          ]
        }
      ]
    },
    {
      "cell_type": "markdown",
      "source": [
        "\n",
        "\n",
        "---\n",
        "\n"
      ],
      "metadata": {
        "id": "J6gegkGw4rd5"
      }
    },
    {
      "cell_type": "markdown",
      "source": [
        "#### Baseline"
      ],
      "metadata": {
        "id": "KbE6ZLrphZ8B"
      }
    },
    {
      "cell_type": "code",
      "source": [
        "import numpy as np\n",
        "\n",
        "doc_1 = [2, 1, 0, 0, 3, 2]\n",
        "doc_2 = [2, 0, 1, 1, 0, 0]\n",
        "doc_3 = [1, 1, 1, 1, 1, 1]\n",
        "doc_4 = [1, 2, 3, 0, 0, 0]\n",
        "\n",
        "doc = [3, 1, 0, 0, 2, 1]\n",
        "doc_ls = [doc_1, doc_2, doc_3, doc_4]\n",
        "\n",
        "def cosine(A, B):\n",
        "    return np.dot(A, B) / (np.linalg.norm(A) * np.linalg.norm(B))\n",
        "\n",
        "# Calculate cosine similarity scores for each document\n",
        "scores = [cosine(doc, doc_id) for doc_id in doc_ls]\n",
        "\n",
        "# Sort the ranking based on the scores (higher scores first)\n",
        "sorted_indices = np.argsort(scores)[::-1]  # [::-1] for descending order\n",
        "\n",
        "# Print the ranking\n",
        "print(\"Ranking based on cosine similarity scores:\")\n",
        "for rank, idx in enumerate(sorted_indices):\n",
        "    doc_score = scores[idx]\n",
        "    doc_content = doc_ls[idx]\n",
        "    print(f\"Rank {rank + 1}; Score: {doc_score:.4f}\")\n",
        "    print(doc_content)\n",
        "    print(\"\\n\")\n"
      ],
      "metadata": {
        "colab": {
          "base_uri": "https://localhost:8080/"
        },
        "id": "aB6DNoi5TLPM",
        "outputId": "cdc286f0-006e-45af-f385-60de507aea5b"
      },
      "execution_count": 20,
      "outputs": [
        {
          "output_type": "stream",
          "name": "stdout",
          "text": [
            "Ranking based on cosine similarity scores:\n",
            "Rank 1; Score: 0.9129\n",
            "[2, 1, 0, 0, 3, 2]\n",
            "\n",
            "\n",
            "Rank 2; Score: 0.7379\n",
            "[1, 1, 1, 1, 1, 1]\n",
            "\n",
            "\n",
            "Rank 3; Score: 0.6325\n",
            "[2, 0, 1, 1, 0, 0]\n",
            "\n",
            "\n",
            "Rank 4; Score: 0.3450\n",
            "[1, 2, 3, 0, 0, 0]\n",
            "\n",
            "\n"
          ]
        }
      ]
    }
  ]
}